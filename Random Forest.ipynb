{
 "cells": [
  {
   "cell_type": "code",
   "execution_count": 1,
   "metadata": {},
   "outputs": [],
   "source": [
    "import numpy as np\n",
    "import pandas as pd\n",
    "from sklearn.ensemble import RandomForestClassifier"
   ]
  },
  {
   "cell_type": "code",
   "execution_count": 2,
   "metadata": {},
   "outputs": [
    {
     "name": "stderr",
     "output_type": "stream",
     "text": [
      "D:\\PythonRIDE\\envs\\fastai\\lib\\site-packages\\sklearn\\utils\\deprecation.py:144: FutureWarning: The sklearn.ensemble.forest module is  deprecated in version 0.22 and will be removed in version 0.24. The corresponding classes / functions should instead be imported from sklearn.ensemble. Anything that cannot be imported from sklearn.ensemble is now part of the private API.\n",
      "  warnings.warn(message, FutureWarning)\n"
     ]
    }
   ],
   "source": [
    "from symlinkold.imports import *\n",
    "from symlinkold.structured import *"
   ]
  },
  {
   "cell_type": "code",
   "execution_count": 3,
   "metadata": {},
   "outputs": [
    {
     "data": {
      "text/html": [
       "<div>\n",
       "<style scoped>\n",
       "    .dataframe tbody tr th:only-of-type {\n",
       "        vertical-align: middle;\n",
       "    }\n",
       "\n",
       "    .dataframe tbody tr th {\n",
       "        vertical-align: top;\n",
       "    }\n",
       "\n",
       "    .dataframe thead th {\n",
       "        text-align: right;\n",
       "    }\n",
       "</style>\n",
       "<table border=\"1\" class=\"dataframe\">\n",
       "  <thead>\n",
       "    <tr style=\"text-align: right;\">\n",
       "      <th></th>\n",
       "      <th>age</th>\n",
       "      <th>workclass</th>\n",
       "      <th>fnlwgt</th>\n",
       "      <th>education</th>\n",
       "      <th>education-num</th>\n",
       "      <th>marital-status</th>\n",
       "      <th>occupation</th>\n",
       "      <th>relationship</th>\n",
       "      <th>race</th>\n",
       "      <th>sex</th>\n",
       "      <th>capital-gain</th>\n",
       "      <th>capital-loss</th>\n",
       "      <th>hours-per-week</th>\n",
       "      <th>native-country</th>\n",
       "      <th>income</th>\n",
       "    </tr>\n",
       "  </thead>\n",
       "  <tbody>\n",
       "    <tr>\n",
       "      <th>0</th>\n",
       "      <td>39</td>\n",
       "      <td>State-gov</td>\n",
       "      <td>77516</td>\n",
       "      <td>Bachelors</td>\n",
       "      <td>13</td>\n",
       "      <td>Never-married</td>\n",
       "      <td>Adm-clerical</td>\n",
       "      <td>Not-in-family</td>\n",
       "      <td>White</td>\n",
       "      <td>Male</td>\n",
       "      <td>2174</td>\n",
       "      <td>0</td>\n",
       "      <td>40</td>\n",
       "      <td>United-States</td>\n",
       "      <td>&lt;=50K</td>\n",
       "    </tr>\n",
       "    <tr>\n",
       "      <th>1</th>\n",
       "      <td>50</td>\n",
       "      <td>Self-emp-not-inc</td>\n",
       "      <td>83311</td>\n",
       "      <td>Bachelors</td>\n",
       "      <td>13</td>\n",
       "      <td>Married-civ-spouse</td>\n",
       "      <td>Exec-managerial</td>\n",
       "      <td>Husband</td>\n",
       "      <td>White</td>\n",
       "      <td>Male</td>\n",
       "      <td>0</td>\n",
       "      <td>0</td>\n",
       "      <td>13</td>\n",
       "      <td>United-States</td>\n",
       "      <td>&lt;=50K</td>\n",
       "    </tr>\n",
       "    <tr>\n",
       "      <th>2</th>\n",
       "      <td>38</td>\n",
       "      <td>Private</td>\n",
       "      <td>215646</td>\n",
       "      <td>HS-grad</td>\n",
       "      <td>9</td>\n",
       "      <td>Divorced</td>\n",
       "      <td>Handlers-cleaners</td>\n",
       "      <td>Not-in-family</td>\n",
       "      <td>White</td>\n",
       "      <td>Male</td>\n",
       "      <td>0</td>\n",
       "      <td>0</td>\n",
       "      <td>40</td>\n",
       "      <td>United-States</td>\n",
       "      <td>&lt;=50K</td>\n",
       "    </tr>\n",
       "    <tr>\n",
       "      <th>3</th>\n",
       "      <td>53</td>\n",
       "      <td>Private</td>\n",
       "      <td>234721</td>\n",
       "      <td>11th</td>\n",
       "      <td>7</td>\n",
       "      <td>Married-civ-spouse</td>\n",
       "      <td>Handlers-cleaners</td>\n",
       "      <td>Husband</td>\n",
       "      <td>Black</td>\n",
       "      <td>Male</td>\n",
       "      <td>0</td>\n",
       "      <td>0</td>\n",
       "      <td>40</td>\n",
       "      <td>United-States</td>\n",
       "      <td>&lt;=50K</td>\n",
       "    </tr>\n",
       "    <tr>\n",
       "      <th>4</th>\n",
       "      <td>28</td>\n",
       "      <td>Private</td>\n",
       "      <td>338409</td>\n",
       "      <td>Bachelors</td>\n",
       "      <td>13</td>\n",
       "      <td>Married-civ-spouse</td>\n",
       "      <td>Prof-specialty</td>\n",
       "      <td>Wife</td>\n",
       "      <td>Black</td>\n",
       "      <td>Female</td>\n",
       "      <td>0</td>\n",
       "      <td>0</td>\n",
       "      <td>40</td>\n",
       "      <td>Cuba</td>\n",
       "      <td>&lt;=50K</td>\n",
       "    </tr>\n",
       "  </tbody>\n",
       "</table>\n",
       "</div>"
      ],
      "text/plain": [
       "   age          workclass   fnlwgt   education   education-num  \\\n",
       "0   39          State-gov    77516   Bachelors              13   \n",
       "1   50   Self-emp-not-inc    83311   Bachelors              13   \n",
       "2   38            Private   215646     HS-grad               9   \n",
       "3   53            Private   234721        11th               7   \n",
       "4   28            Private   338409   Bachelors              13   \n",
       "\n",
       "        marital-status          occupation    relationship    race      sex  \\\n",
       "0        Never-married        Adm-clerical   Not-in-family   White     Male   \n",
       "1   Married-civ-spouse     Exec-managerial         Husband   White     Male   \n",
       "2             Divorced   Handlers-cleaners   Not-in-family   White     Male   \n",
       "3   Married-civ-spouse   Handlers-cleaners         Husband   Black     Male   \n",
       "4   Married-civ-spouse      Prof-specialty            Wife   Black   Female   \n",
       "\n",
       "    capital-gain   capital-loss   hours-per-week  native-country  income  \n",
       "0           2174              0               40   United-States   <=50K  \n",
       "1              0              0               13   United-States   <=50K  \n",
       "2              0              0               40   United-States   <=50K  \n",
       "3              0              0               40   United-States   <=50K  \n",
       "4              0              0               40            Cuba   <=50K  "
      ]
     },
     "execution_count": 3,
     "metadata": {},
     "output_type": "execute_result"
    }
   ],
   "source": [
    "df_raw = pd.read_csv('income_evaluation.csv')\n",
    "df_raw.head()"
   ]
  },
  {
   "cell_type": "code",
   "execution_count": 4,
   "metadata": {
    "scrolled": false
   },
   "outputs": [
    {
     "name": "stdout",
     "output_type": "stream",
     "text": [
      "<class 'pandas.core.frame.DataFrame'>\n",
      "RangeIndex: 32561 entries, 0 to 32560\n",
      "Data columns (total 15 columns):\n",
      " #   Column           Non-Null Count  Dtype \n",
      "---  ------           --------------  ----- \n",
      " 0   age              32561 non-null  int64 \n",
      " 1    workclass       32561 non-null  object\n",
      " 2    fnlwgt          32561 non-null  int64 \n",
      " 3    education       32561 non-null  object\n",
      " 4    education-num   32561 non-null  int64 \n",
      " 5    marital-status  32561 non-null  object\n",
      " 6    occupation      32561 non-null  object\n",
      " 7    relationship    32561 non-null  object\n",
      " 8    race            32561 non-null  object\n",
      " 9    sex             32561 non-null  object\n",
      " 10   capital-gain    32561 non-null  int64 \n",
      " 11   capital-loss    32561 non-null  int64 \n",
      " 12   hours-per-week  32561 non-null  int64 \n",
      " 13   native-country  32561 non-null  object\n",
      " 14   income          32561 non-null  object\n",
      "dtypes: int64(6), object(9)\n",
      "memory usage: 3.7+ MB\n"
     ]
    }
   ],
   "source": [
    "df_raw.info()"
   ]
  },
  {
   "cell_type": "markdown",
   "metadata": {},
   "source": [
    "# Preprocessing"
   ]
  },
  {
   "cell_type": "code",
   "execution_count": 5,
   "metadata": {},
   "outputs": [
    {
     "data": {
      "text/plain": [
       "Index(['age', ' workclass', ' fnlwgt', ' education', ' education-num',\n",
       "       ' marital-status', ' occupation', ' relationship', ' race', ' sex',\n",
       "       ' capital-gain', ' capital-loss', ' hours-per-week', ' native-country',\n",
       "       ' income'],\n",
       "      dtype='object')"
      ]
     },
     "execution_count": 5,
     "metadata": {},
     "output_type": "execute_result"
    }
   ],
   "source": [
    "df_raw.columns"
   ]
  },
  {
   "cell_type": "code",
   "execution_count": 6,
   "metadata": {},
   "outputs": [],
   "source": [
    "X = df_raw.drop([' income'], axis=1)\n",
    "y = df_raw[' income']"
   ]
  },
  {
   "cell_type": "code",
   "execution_count": 7,
   "metadata": {},
   "outputs": [],
   "source": [
    "X.drop(' education', axis=1, inplace=True)"
   ]
  },
  {
   "cell_type": "code",
   "execution_count": 8,
   "metadata": {},
   "outputs": [],
   "source": [
    "X_cat = X[[' workclass', ' marital-status', ' occupation', ' relationship', ' race', ' sex', \n",
    "                      ' native-country']]\n",
    "X_cat = pd.get_dummies(X_cat, drop_first=True)"
   ]
  },
  {
   "cell_type": "code",
   "execution_count": 9,
   "metadata": {},
   "outputs": [
    {
     "data": {
      "text/plain": [
       "(32561, 79)"
      ]
     },
     "execution_count": 9,
     "metadata": {},
     "output_type": "execute_result"
    }
   ],
   "source": [
    "X_cat.shape"
   ]
  },
  {
   "cell_type": "code",
   "execution_count": 10,
   "metadata": {},
   "outputs": [],
   "source": [
    "X = pd.concat([X, X_cat], axis=1)\n",
    "X.drop([' workclass', ' marital-status', ' occupation', ' relationship', ' race', ' sex', \n",
    "                      ' native-country'], axis=1, inplace=True)"
   ]
  },
  {
   "cell_type": "markdown",
   "metadata": {},
   "source": [
    "## Training, Test & Validation split"
   ]
  },
  {
   "cell_type": "code",
   "execution_count": 11,
   "metadata": {},
   "outputs": [],
   "source": [
    "from sklearn.model_selection import train_test_split\n",
    "X_train, X_test, y_train, y_test = train_test_split(X, y, test_size=0.2, random_state=42)"
   ]
  },
  {
   "cell_type": "code",
   "execution_count": 12,
   "metadata": {},
   "outputs": [],
   "source": [
    "X_train, X_val, y_train, y_val = train_test_split(X_train, y_train, test_size=0.2, random_state=42)"
   ]
  },
  {
   "cell_type": "code",
   "execution_count": 13,
   "metadata": {},
   "outputs": [
    {
     "data": {
      "text/plain": [
       "(20838, 85)"
      ]
     },
     "execution_count": 13,
     "metadata": {},
     "output_type": "execute_result"
    }
   ],
   "source": [
    "X_train.shape"
   ]
  },
  {
   "cell_type": "code",
   "execution_count": 14,
   "metadata": {},
   "outputs": [
    {
     "data": {
      "text/plain": [
       "(6513, 85)"
      ]
     },
     "execution_count": 14,
     "metadata": {},
     "output_type": "execute_result"
    }
   ],
   "source": [
    "X_test.shape"
   ]
  },
  {
   "cell_type": "code",
   "execution_count": 15,
   "metadata": {
    "scrolled": false
   },
   "outputs": [
    {
     "data": {
      "text/plain": [
       "array([' Bachelors', ' HS-grad', ' 11th', ' Masters', ' 9th', ' Some-college', ' Assoc-acdm', ' Assoc-voc',\n",
       "       ' 7th-8th', ' Doctorate', ' Prof-school', ' 5th-6th', ' 10th', ' 1st-4th', ' Preschool', ' 12th'],\n",
       "      dtype=object)"
      ]
     },
     "execution_count": 15,
     "metadata": {},
     "output_type": "execute_result"
    }
   ],
   "source": [
    "q = df_raw[' education'].unique()\n",
    "q"
   ]
  },
  {
   "cell_type": "code",
   "execution_count": 16,
   "metadata": {},
   "outputs": [
    {
     "data": {
      "text/plain": [
       "array([' Preschool', ' 1st-4th', ' 5th-6th', ' 7th-8th', ' 9th', ' 10th', ' 11th', ' 12th', ' HS-grad',\n",
       "       ' Some-college', ' Assoc-voc', ' Assoc-acdm', ' Bachelors', ' Masters', ' Prof-school', ' Doctorate'],\n",
       "      dtype=object)"
      ]
     },
     "execution_count": 16,
     "metadata": {},
     "output_type": "execute_result"
    }
   ],
   "source": [
    "idx1 = [14, 13, 11, 8, 4, 12, 2, 15, 1, 5, 7, 6, 0, 3, 10 , 9]\n",
    "q = q[idx1]\n",
    "q"
   ]
  },
  {
   "cell_type": "code",
   "execution_count": 17,
   "metadata": {},
   "outputs": [
    {
     "data": {
      "text/plain": [
       "1         Preschool\n",
       "2           1st-4th\n",
       "3           5th-6th\n",
       "4           7th-8th\n",
       "5               9th\n",
       "6              10th\n",
       "7              11th\n",
       "8              12th\n",
       "9           HS-grad\n",
       "10     Some-college\n",
       "11        Assoc-voc\n",
       "12       Assoc-acdm\n",
       "13        Bachelors\n",
       "14          Masters\n",
       "15      Prof-school\n",
       "16        Doctorate\n",
       "dtype: object"
      ]
     },
     "execution_count": 17,
     "metadata": {},
     "output_type": "execute_result"
    }
   ],
   "source": [
    "q = pd.Series(q)\n",
    "q.index = np.arange(1, 17)\n",
    "q"
   ]
  },
  {
   "cell_type": "markdown",
   "metadata": {},
   "source": [
    "# Random Forest"
   ]
  },
  {
   "cell_type": "markdown",
   "metadata": {},
   "source": [
    "## Single Tree"
   ]
  },
  {
   "cell_type": "code",
   "execution_count": 18,
   "metadata": {},
   "outputs": [
    {
     "data": {
      "text/plain": [
       "0.8234475477493042"
      ]
     },
     "execution_count": 18,
     "metadata": {},
     "output_type": "execute_result"
    }
   ],
   "source": [
    "m = RandomForestClassifier(n_estimators=1, max_depth=3, bootstrap=False, n_jobs=-1)\n",
    "m.fit(X_train, y_train)\n",
    "m.score(X_train, y_train)"
   ]
  },
  {
   "cell_type": "code",
   "execution_count": 19,
   "metadata": {},
   "outputs": [
    {
     "data": {
      "image/svg+xml": [
       "<?xml version=\"1.0\" encoding=\"UTF-8\" standalone=\"no\"?>\r\n",
       "<!DOCTYPE svg PUBLIC \"-//W3C//DTD SVG 1.1//EN\"\r\n",
       " \"http://www.w3.org/Graphics/SVG/1.1/DTD/svg11.dtd\">\r\n",
       "<!-- Generated by graphviz version 2.38.0 (20140413.2041)\r\n",
       " -->\r\n",
       "<!-- Title: Tree Pages: 1 -->\r\n",
       "<svg width=\"720pt\" height=\"434pt\"\r\n",
       " viewBox=\"0.00 0.00 720.00 434.49\" xmlns=\"http://www.w3.org/2000/svg\" xmlns:xlink=\"http://www.w3.org/1999/xlink\">\r\n",
       "<g id=\"graph0\" class=\"graph\" transform=\"scale(0.778659 0.778659) rotate(0) translate(4 554)\">\r\n",
       "<title>Tree</title>\r\n",
       "<polygon fill=\"white\" stroke=\"none\" points=\"-4,4 -4,-554 920.667,-554 920.667,4 -4,4\"/>\r\n",
       "<!-- 0 -->\r\n",
       "<g id=\"node1\" class=\"node\"><title>0</title>\r\n",
       "<polygon fill=\"#eda979\" stroke=\"black\" points=\"148.667,-308.5 6.66667,-308.5 6.66667,-240.5 148.667,-240.5 148.667,-308.5\"/>\r\n",
       "<text text-anchor=\"start\" x=\"14.6667\" y=\"-293.3\" font-family=\"Times New Roman,serif\" font-size=\"14.00\"> education&#45;num ≤ 12.5</text>\r\n",
       "<text text-anchor=\"start\" x=\"44.1667\" y=\"-278.3\" font-family=\"Times New Roman,serif\" font-size=\"14.00\">gini = 0.368</text>\r\n",
       "<text text-anchor=\"start\" x=\"30.1667\" y=\"-263.3\" font-family=\"Times New Roman,serif\" font-size=\"14.00\">samples = 20838</text>\r\n",
       "<text text-anchor=\"start\" x=\"16.6667\" y=\"-248.3\" font-family=\"Times New Roman,serif\" font-size=\"14.00\">value = [15774, 5064]</text>\r\n",
       "</g>\r\n",
       "<!-- 1 -->\r\n",
       "<g id=\"node2\" class=\"node\"><title>1</title>\r\n",
       "<polygon fill=\"#ea9a60\" stroke=\"black\" points=\"450.667,-361.5 204.667,-361.5 204.667,-293.5 450.667,-293.5 450.667,-361.5\"/>\r\n",
       "<text text-anchor=\"start\" x=\"212.667\" y=\"-346.3\" font-family=\"Times New Roman,serif\" font-size=\"14.00\"> marital&#45;status_ Married&#45;civ&#45;spouse ≤ 0.5</text>\r\n",
       "<text text-anchor=\"start\" x=\"294.167\" y=\"-331.3\" font-family=\"Times New Roman,serif\" font-size=\"14.00\">gini = 0.275</text>\r\n",
       "<text text-anchor=\"start\" x=\"280.167\" y=\"-316.3\" font-family=\"Times New Roman,serif\" font-size=\"14.00\">samples = 15721</text>\r\n",
       "<text text-anchor=\"start\" x=\"266.667\" y=\"-301.3\" font-family=\"Times New Roman,serif\" font-size=\"14.00\">value = [13132, 2589]</text>\r\n",
       "</g>\r\n",
       "<!-- 0&#45;&gt;1 -->\r\n",
       "<g id=\"edge1\" class=\"edge\"><title>0&#45;&gt;1</title>\r\n",
       "<path fill=\"none\" stroke=\"black\" d=\"M148.739,-289.475C163.21,-292.568 178.899,-295.921 194.76,-299.31\"/>\r\n",
       "<polygon fill=\"black\" stroke=\"black\" points=\"194.138,-302.756 204.649,-301.424 195.601,-295.911 194.138,-302.756\"/>\r\n",
       "<text text-anchor=\"middle\" x=\"183.667\" y=\"-311.316\" font-family=\"Times New Roman,serif\" font-size=\"14.00\">True</text>\r\n",
       "</g>\r\n",
       "<!-- 8 -->\r\n",
       "<g id=\"node9\" class=\"node\"><title>8</title>\r\n",
       "<polygon fill=\"#fdf7f2\" stroke=\"black\" points=\"450.667,-255.5 204.667,-255.5 204.667,-187.5 450.667,-187.5 450.667,-255.5\"/>\r\n",
       "<text text-anchor=\"start\" x=\"212.667\" y=\"-240.3\" font-family=\"Times New Roman,serif\" font-size=\"14.00\"> marital&#45;status_ Married&#45;civ&#45;spouse ≤ 0.5</text>\r\n",
       "<text text-anchor=\"start\" x=\"294.167\" y=\"-225.3\" font-family=\"Times New Roman,serif\" font-size=\"14.00\">gini = 0.499</text>\r\n",
       "<text text-anchor=\"start\" x=\"283.667\" y=\"-210.3\" font-family=\"Times New Roman,serif\" font-size=\"14.00\">samples = 5117</text>\r\n",
       "<text text-anchor=\"start\" x=\"270.167\" y=\"-195.3\" font-family=\"Times New Roman,serif\" font-size=\"14.00\">value = [2642, 2475]</text>\r\n",
       "</g>\r\n",
       "<!-- 0&#45;&gt;8 -->\r\n",
       "<g id=\"edge8\" class=\"edge\"><title>0&#45;&gt;8</title>\r\n",
       "<path fill=\"none\" stroke=\"black\" d=\"M148.739,-259.525C163.21,-256.432 178.899,-253.079 194.76,-249.69\"/>\r\n",
       "<polygon fill=\"black\" stroke=\"black\" points=\"195.601,-253.089 204.649,-247.576 194.138,-246.244 195.601,-253.089\"/>\r\n",
       "<text text-anchor=\"middle\" x=\"183.667\" y=\"-230.284\" font-family=\"Times New Roman,serif\" font-size=\"14.00\">False</text>\r\n",
       "</g>\r\n",
       "<!-- 2 -->\r\n",
       "<g id=\"node3\" class=\"node\"><title>2</title>\r\n",
       "<polygon fill=\"#e68540\" stroke=\"black\" points=\"688.667,-486.5 546.667,-486.5 546.667,-418.5 688.667,-418.5 688.667,-486.5\"/>\r\n",
       "<text text-anchor=\"start\" x=\"554.667\" y=\"-471.3\" font-family=\"Times New Roman,serif\" font-size=\"14.00\"> education&#45;num ≤ 10.5</text>\r\n",
       "<text text-anchor=\"start\" x=\"584.167\" y=\"-456.3\" font-family=\"Times New Roman,serif\" font-size=\"14.00\">gini = 0.064</text>\r\n",
       "<text text-anchor=\"start\" x=\"573.667\" y=\"-441.3\" font-family=\"Times New Roman,serif\" font-size=\"14.00\">samples = 8960</text>\r\n",
       "<text text-anchor=\"start\" x=\"563.167\" y=\"-426.3\" font-family=\"Times New Roman,serif\" font-size=\"14.00\">value = [8665, 295]</text>\r\n",
       "</g>\r\n",
       "<!-- 1&#45;&gt;2 -->\r\n",
       "<g id=\"edge2\" class=\"edge\"><title>1&#45;&gt;2</title>\r\n",
       "<path fill=\"none\" stroke=\"black\" d=\"M407.364,-361.657C447.691,-379.16 496.687,-400.426 537.133,-417.98\"/>\r\n",
       "<polygon fill=\"black\" stroke=\"black\" points=\"535.854,-421.241 546.421,-422.012 538.641,-414.819 535.854,-421.241\"/>\r\n",
       "</g>\r\n",
       "<!-- 5 -->\r\n",
       "<g id=\"node6\" class=\"node\"><title>5</title>\r\n",
       "<polygon fill=\"#f2c29f\" stroke=\"black\" points=\"685.667,-361.5 549.667,-361.5 549.667,-293.5 685.667,-293.5 685.667,-361.5\"/>\r\n",
       "<text text-anchor=\"start\" x=\"557.667\" y=\"-346.3\" font-family=\"Times New Roman,serif\" font-size=\"14.00\"> capital&#45;loss ≤ 1782.5</text>\r\n",
       "<text text-anchor=\"start\" x=\"584.167\" y=\"-331.3\" font-family=\"Times New Roman,serif\" font-size=\"14.00\">gini = 0.448</text>\r\n",
       "<text text-anchor=\"start\" x=\"573.667\" y=\"-316.3\" font-family=\"Times New Roman,serif\" font-size=\"14.00\">samples = 6761</text>\r\n",
       "<text text-anchor=\"start\" x=\"560.167\" y=\"-301.3\" font-family=\"Times New Roman,serif\" font-size=\"14.00\">value = [4467, 2294]</text>\r\n",
       "</g>\r\n",
       "<!-- 1&#45;&gt;5 -->\r\n",
       "<g id=\"edge5\" class=\"edge\"><title>1&#45;&gt;5</title>\r\n",
       "<path fill=\"none\" stroke=\"black\" d=\"M450.805,-327.5C480.712,-327.5 511.907,-327.5 539.068,-327.5\"/>\r\n",
       "<polygon fill=\"black\" stroke=\"black\" points=\"539.269,-331 549.268,-327.5 539.268,-324 539.269,-331\"/>\r\n",
       "</g>\r\n",
       "<!-- 3 -->\r\n",
       "<g id=\"node4\" class=\"node\"><title>3</title>\r\n",
       "<polygon fill=\"#e6853f\" stroke=\"black\" points=\"908.167,-550 783.167,-550 783.167,-497 908.167,-497 908.167,-550\"/>\r\n",
       "<text text-anchor=\"start\" x=\"812.167\" y=\"-534.8\" font-family=\"Times New Roman,serif\" font-size=\"14.00\">gini = 0.058</text>\r\n",
       "<text text-anchor=\"start\" x=\"801.667\" y=\"-519.8\" font-family=\"Times New Roman,serif\" font-size=\"14.00\">samples = 8120</text>\r\n",
       "<text text-anchor=\"start\" x=\"791.167\" y=\"-504.8\" font-family=\"Times New Roman,serif\" font-size=\"14.00\">value = [7879, 241]</text>\r\n",
       "</g>\r\n",
       "<!-- 2&#45;&gt;3 -->\r\n",
       "<g id=\"edge3\" class=\"edge\"><title>2&#45;&gt;3</title>\r\n",
       "<path fill=\"none\" stroke=\"black\" d=\"M688.936,-474.576C715.709,-482.987 746.236,-492.577 773.126,-501.025\"/>\r\n",
       "<polygon fill=\"black\" stroke=\"black\" points=\"772.266,-504.423 782.855,-504.081 774.364,-497.745 772.266,-504.423\"/>\r\n",
       "</g>\r\n",
       "<!-- 4 -->\r\n",
       "<g id=\"node5\" class=\"node\"><title>4</title>\r\n",
       "<polygon fill=\"#e78a47\" stroke=\"black\" points=\"901.167,-479 790.167,-479 790.167,-426 901.167,-426 901.167,-479\"/>\r\n",
       "<text text-anchor=\"start\" x=\"815.667\" y=\"-463.8\" font-family=\"Times New Roman,serif\" font-size=\"14.00\">gini = 0.12</text>\r\n",
       "<text text-anchor=\"start\" x=\"804.667\" y=\"-448.8\" font-family=\"Times New Roman,serif\" font-size=\"14.00\">samples = 840</text>\r\n",
       "<text text-anchor=\"start\" x=\"798.167\" y=\"-433.8\" font-family=\"Times New Roman,serif\" font-size=\"14.00\">value = [786, 54]</text>\r\n",
       "</g>\r\n",
       "<!-- 2&#45;&gt;4 -->\r\n",
       "<g id=\"edge4\" class=\"edge\"><title>2&#45;&gt;4</title>\r\n",
       "<path fill=\"none\" stroke=\"black\" d=\"M688.936,-452.5C717.902,-452.5 751.261,-452.5 779.656,-452.5\"/>\r\n",
       "<polygon fill=\"black\" stroke=\"black\" points=\"779.875,-456 789.875,-452.5 779.875,-449 779.875,-456\"/>\r\n",
       "</g>\r\n",
       "<!-- 6 -->\r\n",
       "<g id=\"node7\" class=\"node\"><title>6</title>\r\n",
       "<polygon fill=\"#f1bd98\" stroke=\"black\" points=\"911.167,-408 780.167,-408 780.167,-355 911.167,-355 911.167,-408\"/>\r\n",
       "<text text-anchor=\"start\" x=\"812.167\" y=\"-392.8\" font-family=\"Times New Roman,serif\" font-size=\"14.00\">gini = 0.438</text>\r\n",
       "<text text-anchor=\"start\" x=\"801.667\" y=\"-377.8\" font-family=\"Times New Roman,serif\" font-size=\"14.00\">samples = 6511</text>\r\n",
       "<text text-anchor=\"start\" x=\"788.167\" y=\"-362.8\" font-family=\"Times New Roman,serif\" font-size=\"14.00\">value = [4400, 2111]</text>\r\n",
       "</g>\r\n",
       "<!-- 5&#45;&gt;6 -->\r\n",
       "<g id=\"edge6\" class=\"edge\"><title>5&#45;&gt;6</title>\r\n",
       "<path fill=\"none\" stroke=\"black\" d=\"M685.862,-343.556C712.399,-349.896 742.994,-357.206 770.202,-363.708\"/>\r\n",
       "<polygon fill=\"black\" stroke=\"black\" points=\"769.519,-367.143 780.059,-366.063 771.146,-360.335 769.519,-367.143\"/>\r\n",
       "</g>\r\n",
       "<!-- 7 -->\r\n",
       "<g id=\"node8\" class=\"node\"><title>7</title>\r\n",
       "<polygon fill=\"#81c1ef\" stroke=\"black\" points=\"901.167,-337 790.167,-337 790.167,-284 901.167,-284 901.167,-337\"/>\r\n",
       "<text text-anchor=\"start\" x=\"812.167\" y=\"-321.8\" font-family=\"Times New Roman,serif\" font-size=\"14.00\">gini = 0.392</text>\r\n",
       "<text text-anchor=\"start\" x=\"804.667\" y=\"-306.8\" font-family=\"Times New Roman,serif\" font-size=\"14.00\">samples = 250</text>\r\n",
       "<text text-anchor=\"start\" x=\"798.167\" y=\"-291.8\" font-family=\"Times New Roman,serif\" font-size=\"14.00\">value = [67, 183]</text>\r\n",
       "</g>\r\n",
       "<!-- 5&#45;&gt;7 -->\r\n",
       "<g id=\"edge7\" class=\"edge\"><title>5&#45;&gt;7</title>\r\n",
       "<path fill=\"none\" stroke=\"black\" d=\"M685.862,-322.445C715.542,-320.213 750.297,-317.599 779.713,-315.386\"/>\r\n",
       "<polygon fill=\"black\" stroke=\"black\" points=\"780.169,-318.862 789.878,-314.621 779.644,-311.881 780.169,-318.862\"/>\r\n",
       "</g>\r\n",
       "<!-- 9 -->\r\n",
       "<g id=\"node10\" class=\"node\"><title>9</title>\r\n",
       "<polygon fill=\"#eb9d66\" stroke=\"black\" points=\"688.667,-255.5 546.667,-255.5 546.667,-187.5 688.667,-187.5 688.667,-255.5\"/>\r\n",
       "<text text-anchor=\"start\" x=\"554.667\" y=\"-240.3\" font-family=\"Times New Roman,serif\" font-size=\"14.00\"> education&#45;num ≤ 14.5</text>\r\n",
       "<text text-anchor=\"start\" x=\"591.167\" y=\"-225.3\" font-family=\"Times New Roman,serif\" font-size=\"14.00\">gini = 0.3</text>\r\n",
       "<text text-anchor=\"start\" x=\"573.667\" y=\"-210.3\" font-family=\"Times New Roman,serif\" font-size=\"14.00\">samples = 2270</text>\r\n",
       "<text text-anchor=\"start\" x=\"563.167\" y=\"-195.3\" font-family=\"Times New Roman,serif\" font-size=\"14.00\">value = [1853, 417]</text>\r\n",
       "</g>\r\n",
       "<!-- 8&#45;&gt;9 -->\r\n",
       "<g id=\"edge9\" class=\"edge\"><title>8&#45;&gt;9</title>\r\n",
       "<path fill=\"none\" stroke=\"black\" d=\"M450.805,-221.5C479.633,-221.5 509.658,-221.5 536.112,-221.5\"/>\r\n",
       "<polygon fill=\"black\" stroke=\"black\" points=\"536.447,-225 546.447,-221.5 536.447,-218 536.447,-225\"/>\r\n",
       "</g>\r\n",
       "<!-- 12 -->\r\n",
       "<g id=\"node13\" class=\"node\"><title>12</title>\r\n",
       "<polygon fill=\"#85c3ef\" stroke=\"black\" points=\"724.667,-131.5 510.667,-131.5 510.667,-63.5 724.667,-63.5 724.667,-131.5\"/>\r\n",
       "<text text-anchor=\"start\" x=\"518.667\" y=\"-116.3\" font-family=\"Times New Roman,serif\" font-size=\"14.00\"> workclass_ Self&#45;emp&#45;not&#45;inc ≤ 0.5</text>\r\n",
       "<text text-anchor=\"start\" x=\"584.167\" y=\"-101.3\" font-family=\"Times New Roman,serif\" font-size=\"14.00\">gini = 0.401</text>\r\n",
       "<text text-anchor=\"start\" x=\"573.667\" y=\"-86.3\" font-family=\"Times New Roman,serif\" font-size=\"14.00\">samples = 2847</text>\r\n",
       "<text text-anchor=\"start\" x=\"563.167\" y=\"-71.3\" font-family=\"Times New Roman,serif\" font-size=\"14.00\">value = [789, 2058]</text>\r\n",
       "</g>\r\n",
       "<!-- 8&#45;&gt;12 -->\r\n",
       "<g id=\"edge12\" class=\"edge\"><title>8&#45;&gt;12</title>\r\n",
       "<path fill=\"none\" stroke=\"black\" d=\"M407.745,-187.452C444.895,-171.457 489.336,-152.323 527.661,-135.822\"/>\r\n",
       "<polygon fill=\"black\" stroke=\"black\" points=\"529.464,-138.856 537.265,-131.687 526.696,-132.427 529.464,-138.856\"/>\r\n",
       "</g>\r\n",
       "<!-- 10 -->\r\n",
       "<g id=\"node11\" class=\"node\"><title>10</title>\r\n",
       "<polygon fill=\"#ea985d\" stroke=\"black\" points=\"908.167,-266 783.167,-266 783.167,-213 908.167,-213 908.167,-266\"/>\r\n",
       "<text text-anchor=\"start\" x=\"812.167\" y=\"-250.8\" font-family=\"Times New Roman,serif\" font-size=\"14.00\">gini = 0.263</text>\r\n",
       "<text text-anchor=\"start\" x=\"801.667\" y=\"-235.8\" font-family=\"Times New Roman,serif\" font-size=\"14.00\">samples = 2084</text>\r\n",
       "<text text-anchor=\"start\" x=\"791.167\" y=\"-220.8\" font-family=\"Times New Roman,serif\" font-size=\"14.00\">value = [1760, 324]</text>\r\n",
       "</g>\r\n",
       "<!-- 9&#45;&gt;10 -->\r\n",
       "<g id=\"edge10\" class=\"edge\"><title>9&#45;&gt;10</title>\r\n",
       "<path fill=\"none\" stroke=\"black\" d=\"M688.936,-227.097C715.592,-229.22 745.968,-231.639 772.772,-233.774\"/>\r\n",
       "<polygon fill=\"black\" stroke=\"black\" points=\"772.609,-237.272 782.855,-234.577 773.165,-230.294 772.609,-237.272\"/>\r\n",
       "</g>\r\n",
       "<!-- 11 -->\r\n",
       "<g id=\"node12\" class=\"node\"><title>11</title>\r\n",
       "<polygon fill=\"#ffffff\" stroke=\"black\" points=\"897.667,-195 793.667,-195 793.667,-142 897.667,-142 897.667,-195\"/>\r\n",
       "<text text-anchor=\"start\" x=\"819.167\" y=\"-179.8\" font-family=\"Times New Roman,serif\" font-size=\"14.00\">gini = 0.5</text>\r\n",
       "<text text-anchor=\"start\" x=\"804.667\" y=\"-164.8\" font-family=\"Times New Roman,serif\" font-size=\"14.00\">samples = 186</text>\r\n",
       "<text text-anchor=\"start\" x=\"801.667\" y=\"-149.8\" font-family=\"Times New Roman,serif\" font-size=\"14.00\">value = [93, 93]</text>\r\n",
       "</g>\r\n",
       "<!-- 9&#45;&gt;11 -->\r\n",
       "<g id=\"edge11\" class=\"edge\"><title>9&#45;&gt;11</title>\r\n",
       "<path fill=\"none\" stroke=\"black\" d=\"M688.936,-205.021C719.188,-197.926 754.232,-189.708 783.408,-182.866\"/>\r\n",
       "<polygon fill=\"black\" stroke=\"black\" points=\"784.529,-186.198 793.465,-180.507 782.93,-179.383 784.529,-186.198\"/>\r\n",
       "</g>\r\n",
       "<!-- 13 -->\r\n",
       "<g id=\"node14\" class=\"node\"><title>13</title>\r\n",
       "<polygon fill=\"#80c0ee\" stroke=\"black\" points=\"908.167,-124 783.167,-124 783.167,-71 908.167,-71 908.167,-124\"/>\r\n",
       "<text text-anchor=\"start\" x=\"812.167\" y=\"-108.8\" font-family=\"Times New Roman,serif\" font-size=\"14.00\">gini = 0.389</text>\r\n",
       "<text text-anchor=\"start\" x=\"801.667\" y=\"-93.8\" font-family=\"Times New Roman,serif\" font-size=\"14.00\">samples = 2548</text>\r\n",
       "<text text-anchor=\"start\" x=\"791.167\" y=\"-78.8\" font-family=\"Times New Roman,serif\" font-size=\"14.00\">value = [675, 1873]</text>\r\n",
       "</g>\r\n",
       "<!-- 12&#45;&gt;13 -->\r\n",
       "<g id=\"edge13\" class=\"edge\"><title>12&#45;&gt;13</title>\r\n",
       "<path fill=\"none\" stroke=\"black\" d=\"M724.718,-97.5C740.932,-97.5 757.337,-97.5 772.591,-97.5\"/>\r\n",
       "<polygon fill=\"black\" stroke=\"black\" points=\"772.952,-101 782.952,-97.5 772.952,-94.0001 772.952,-101\"/>\r\n",
       "</g>\r\n",
       "<!-- 14 -->\r\n",
       "<g id=\"node15\" class=\"node\"><title>14</title>\r\n",
       "<polygon fill=\"#b3d9f5\" stroke=\"black\" points=\"904.667,-53 786.667,-53 786.667,-0 904.667,-0 904.667,-53\"/>\r\n",
       "<text text-anchor=\"start\" x=\"812.167\" y=\"-37.8\" font-family=\"Times New Roman,serif\" font-size=\"14.00\">gini = 0.472</text>\r\n",
       "<text text-anchor=\"start\" x=\"804.667\" y=\"-22.8\" font-family=\"Times New Roman,serif\" font-size=\"14.00\">samples = 299</text>\r\n",
       "<text text-anchor=\"start\" x=\"794.667\" y=\"-7.8\" font-family=\"Times New Roman,serif\" font-size=\"14.00\">value = [114, 185]</text>\r\n",
       "</g>\r\n",
       "<!-- 12&#45;&gt;14 -->\r\n",
       "<g id=\"edge14\" class=\"edge\"><title>12&#45;&gt;14</title>\r\n",
       "<path fill=\"none\" stroke=\"black\" d=\"M724.718,-64.1829C742.383,-58.6332 760.276,-53.0122 776.66,-47.865\"/>\r\n",
       "<polygon fill=\"black\" stroke=\"black\" points=\"778.159,-51.0626 786.651,-44.7263 776.061,-44.3844 778.159,-51.0626\"/>\r\n",
       "</g>\r\n",
       "</g>\r\n",
       "</svg>\r\n"
      ],
      "text/plain": [
       "<graphviz.files.Source at 0x280e95efba8>"
      ]
     },
     "metadata": {},
     "output_type": "display_data"
    }
   ],
   "source": [
    "draw_tree(m.estimators_[0], X_train, precision=3)"
   ]
  },
  {
   "cell_type": "markdown",
   "metadata": {},
   "source": [
    "## Testing on Validation Set"
   ]
  },
  {
   "cell_type": "code",
   "execution_count": 30,
   "metadata": {},
   "outputs": [
    {
     "data": {
      "text/plain": [
       "0.8928400038391401"
      ]
     },
     "execution_count": 30,
     "metadata": {},
     "output_type": "execute_result"
    }
   ],
   "source": [
    "set_rf_samples(2000)\n",
    "m = RandomForestClassifier(n_estimators=40, max_features=0.5, min_samples_leaf=10, n_jobs=-1, oob_score=True)\n",
    "m.fit(X_train, y_train)\n",
    "m.score(X_train, y_train)"
   ]
  },
  {
   "cell_type": "code",
   "execution_count": 31,
   "metadata": {},
   "outputs": [
    {
     "data": {
      "text/plain": [
       "0.8612630770707361"
      ]
     },
     "execution_count": 31,
     "metadata": {},
     "output_type": "execute_result"
    }
   ],
   "source": [
    "m.oob_score_"
   ]
  },
  {
   "cell_type": "code",
   "execution_count": 32,
   "metadata": {},
   "outputs": [
    {
     "data": {
      "text/plain": [
       "0.8556621880998081"
      ]
     },
     "execution_count": 32,
     "metadata": {},
     "output_type": "execute_result"
    }
   ],
   "source": [
    "predict_val = m.predict(X_val)\n",
    "from sklearn.metrics import accuracy_score\n",
    "accuracy_score(y_val, predict_val)"
   ]
  }
 ],
 "metadata": {
  "kernelspec": {
   "display_name": "Python 3",
   "language": "python",
   "name": "python3"
  },
  "language_info": {
   "codemirror_mode": {
    "name": "ipython",
    "version": 3
   },
   "file_extension": ".py",
   "mimetype": "text/x-python",
   "name": "python",
   "nbconvert_exporter": "python",
   "pygments_lexer": "ipython3",
   "version": "3.6.10"
  }
 },
 "nbformat": 4,
 "nbformat_minor": 2
}
